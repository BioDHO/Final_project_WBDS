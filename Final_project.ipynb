{
 "cells": [
  {
   "cell_type": "markdown",
   "id": "12c51c03",
   "metadata": {},
   "source": [
    "#### 1. Preparar el entorno"
   ]
  },
  {
   "cell_type": "code",
   "execution_count": null,
   "id": "155a912e",
   "metadata": {},
   "outputs": [],
   "source": [
    "#instalar biopython\n",
    "#!pip3 install biopython"
   ]
  },
  {
   "cell_type": "code",
   "execution_count": 8,
   "id": "75e22f74",
   "metadata": {},
   "outputs": [],
   "source": [
    "#Cargar librerías\n",
    "from Bio import SeqIO\n",
    "import pandas as pd\n",
    "from Bio import Entrez"
   ]
  },
  {
   "cell_type": "code",
   "execution_count": 9,
   "id": "47ba4924",
   "metadata": {
    "collapsed": true
   },
   "outputs": [
    {
     "name": "stdout",
     "output_type": "stream",
     "text": [
      "b'<?xml version=\"1.0\" encoding=\"UTF-8\" ?>\\n<!DOCTYPE eInfoResult PUBLIC \"-//NLM//DTD einfo 20190110//EN\" \"https://eutils.ncbi.nlm.nih.gov/eutils/dtd/20190110/einfo.dtd\">\\n<eInfoResult>\\n<DbList>\\n\\n\\t<DbName>pubmed</DbName>\\n\\t<DbName>protein</DbName>\\n\\t<DbName>nuccore</DbName>\\n\\t<DbName>ipg</DbName>\\n\\t<DbName>nucleotide</DbName>\\n\\t<DbName>structure</DbName>\\n\\t<DbName>genome</DbName>\\n\\t<DbName>annotinfo</DbName>\\n\\t<DbName>assembly</DbName>\\n\\t<DbName>bioproject</DbName>\\n\\t<DbName>biosample</DbName>\\n\\t<DbName>blastdbinfo</DbName>\\n\\t<DbName>books</DbName>\\n\\t<DbName>cdd</DbName>\\n\\t<DbName>clinvar</DbName>\\n\\t<DbName>gap</DbName>\\n\\t<DbName>gapplus</DbName>\\n\\t<DbName>grasp</DbName>\\n\\t<DbName>dbvar</DbName>\\n\\t<DbName>gene</DbName>\\n\\t<DbName>gds</DbName>\\n\\t<DbName>geoprofiles</DbName>\\n\\t<DbName>homologene</DbName>\\n\\t<DbName>medgen</DbName>\\n\\t<DbName>mesh</DbName>\\n\\t<DbName>nlmcatalog</DbName>\\n\\t<DbName>omim</DbName>\\n\\t<DbName>orgtrack</DbName>\\n\\t<DbName>pmc</DbName>\\n\\t<DbName>popset</DbName>\\n\\t<DbName>proteinclusters</DbName>\\n\\t<DbName>pcassay</DbName>\\n\\t<DbName>protfam</DbName>\\n\\t<DbName>pccompound</DbName>\\n\\t<DbName>pcsubstance</DbName>\\n\\t<DbName>seqannot</DbName>\\n\\t<DbName>snp</DbName>\\n\\t<DbName>sra</DbName>\\n\\t<DbName>taxonomy</DbName>\\n\\t<DbName>biocollections</DbName>\\n\\t<DbName>gtr</DbName>\\n</DbList>\\n\\n</eInfoResult>\\n'\n"
     ]
    }
   ],
   "source": [
    "#acceso a entrez\n",
    "Entrez.email = \"hoaxaca@ccg.unam.mx\"  # IMPORTANTE!!!\n",
    "# handle con einfo\n",
    "handle = Entrez.einfo()\n",
    "result = handle.read() \n",
    "handle.close()\n",
    "#chequemos qué hay en einfo\n",
    "print(result)"
   ]
  },
  {
   "cell_type": "markdown",
   "id": "d6780b2a",
   "metadata": {},
   "source": [
    "#### 2. Obtener genomas en formato GenBank"
   ]
  },
  {
   "cell_type": "code",
   "execution_count": 48,
   "id": "5b3196fb",
   "metadata": {},
   "outputs": [
    {
     "data": {
      "text/html": [
       "<div>\n",
       "<style scoped>\n",
       "    .dataframe tbody tr th:only-of-type {\n",
       "        vertical-align: middle;\n",
       "    }\n",
       "\n",
       "    .dataframe tbody tr th {\n",
       "        vertical-align: top;\n",
       "    }\n",
       "\n",
       "    .dataframe thead th {\n",
       "        text-align: right;\n",
       "    }\n",
       "</style>\n",
       "<table border=\"1\" class=\"dataframe\">\n",
       "  <thead>\n",
       "    <tr style=\"text-align: right;\">\n",
       "      <th></th>\n",
       "      <th>Assembly</th>\n",
       "      <th>Level</th>\n",
       "      <th>WGS</th>\n",
       "      <th>BioSample</th>\n",
       "      <th>Strain</th>\n",
       "      <th>Taxonomy</th>\n",
       "    </tr>\n",
       "  </thead>\n",
       "  <tbody>\n",
       "    <tr>\n",
       "      <th>0</th>\n",
       "      <td>GCA_024199795.1</td>\n",
       "      <td>Contig</td>\n",
       "      <td>JANADK010000001.1</td>\n",
       "      <td>SAMN28667590</td>\n",
       "      <td>CCGB01</td>\n",
       "      <td>Bradyrhizobium sp. CCGB01</td>\n",
       "    </tr>\n",
       "    <tr>\n",
       "      <th>1</th>\n",
       "      <td>GCA_024199845.1</td>\n",
       "      <td>Contig</td>\n",
       "      <td>JANADO000000000.1</td>\n",
       "      <td>SAMN28667586</td>\n",
       "      <td>CCGB12</td>\n",
       "      <td>Bradyrhizobium sp. CCGB12</td>\n",
       "    </tr>\n",
       "    <tr>\n",
       "      <th>2</th>\n",
       "      <td>GCA_024199855.1</td>\n",
       "      <td>Contig</td>\n",
       "      <td>JANADN000000000.1</td>\n",
       "      <td>SAMN28667587</td>\n",
       "      <td>CCGB20</td>\n",
       "      <td>Bradyrhizobium sp. CCGB20</td>\n",
       "    </tr>\n",
       "    <tr>\n",
       "      <th>3</th>\n",
       "      <td>GCA_024199935.1</td>\n",
       "      <td>Contig</td>\n",
       "      <td>JANADS000000000.1</td>\n",
       "      <td>SAMN28667582</td>\n",
       "      <td>CCGUVB14</td>\n",
       "      <td>Bradyrhizobium sp. CCGUVB14</td>\n",
       "    </tr>\n",
       "    <tr>\n",
       "      <th>4</th>\n",
       "      <td>GCA_024199925.1</td>\n",
       "      <td>Scaffold</td>\n",
       "      <td>JANADR000000000.1</td>\n",
       "      <td>SAMN28667583</td>\n",
       "      <td>CCGUVB1N3</td>\n",
       "      <td>Bradyrhizobium sp. CCGUVB1N3</td>\n",
       "    </tr>\n",
       "    <tr>\n",
       "      <th>5</th>\n",
       "      <td>GCA_024199885.1</td>\n",
       "      <td>Scaffold</td>\n",
       "      <td>JANADQ000000000.1</td>\n",
       "      <td>SAMN28667584</td>\n",
       "      <td>CCGUVB23</td>\n",
       "      <td>Bradyrhizobium sp. CCGUVB23</td>\n",
       "    </tr>\n",
       "    <tr>\n",
       "      <th>6</th>\n",
       "      <td>GCA_024199945.1</td>\n",
       "      <td>Contig</td>\n",
       "      <td>JANADP000000000.1</td>\n",
       "      <td>SAMN28667585</td>\n",
       "      <td>CCGUVB4N</td>\n",
       "      <td>Bradyrhizobium sp. CCGUVB4N</td>\n",
       "    </tr>\n",
       "    <tr>\n",
       "      <th>7</th>\n",
       "      <td>GCA_000296215.2</td>\n",
       "      <td>Contig</td>\n",
       "      <td>CP013949.1</td>\n",
       "      <td>SAMN02469422</td>\n",
       "      <td>CCGE-LA001</td>\n",
       "      <td>Bradyrhizobium sp. CCGE-LA001</td>\n",
       "    </tr>\n",
       "  </tbody>\n",
       "</table>\n",
       "</div>"
      ],
      "text/plain": [
       "          Assembly     Level                WGS     BioSample      Strain  \\\n",
       "0  GCA_024199795.1    Contig  JANADK010000001.1  SAMN28667590      CCGB01   \n",
       "1  GCA_024199845.1    Contig  JANADO000000000.1  SAMN28667586      CCGB12   \n",
       "2  GCA_024199855.1    Contig  JANADN000000000.1  SAMN28667587      CCGB20   \n",
       "3  GCA_024199935.1    Contig  JANADS000000000.1  SAMN28667582    CCGUVB14   \n",
       "4  GCA_024199925.1  Scaffold  JANADR000000000.1  SAMN28667583   CCGUVB1N3   \n",
       "5  GCA_024199885.1  Scaffold  JANADQ000000000.1  SAMN28667584    CCGUVB23   \n",
       "6  GCA_024199945.1    Contig  JANADP000000000.1  SAMN28667585    CCGUVB4N   \n",
       "7  GCA_000296215.2    Contig         CP013949.1  SAMN02469422  CCGE-LA001   \n",
       "\n",
       "                        Taxonomy  \n",
       "0      Bradyrhizobium sp. CCGB01  \n",
       "1      Bradyrhizobium sp. CCGB12  \n",
       "2      Bradyrhizobium sp. CCGB20  \n",
       "3    Bradyrhizobium sp. CCGUVB14  \n",
       "4   Bradyrhizobium sp. CCGUVB1N3  \n",
       "5    Bradyrhizobium sp. CCGUVB23  \n",
       "6    Bradyrhizobium sp. CCGUVB4N  \n",
       "7  Bradyrhizobium sp. CCGE-LA001  "
      ]
     },
     "execution_count": 48,
     "metadata": {},
     "output_type": "execute_result"
    }
   ],
   "source": [
    "#Leer DataFrame con información de los genomas de interés\n",
    "genomes = pd.read_csv(\"data/PRJNA842432_AssemblyDetails.tsv\", sep = \"\\t\")\n",
    "genomes "
   ]
  },
  {
   "cell_type": "code",
   "execution_count": 49,
   "id": "a1c9c6eb",
   "metadata": {},
   "outputs": [
    {
     "name": "stdout",
     "output_type": "stream",
     "text": [
      "Archivo GenBank generado para la cepa: CCGB01\n",
      "Archivo GenBank generado para la cepa: CCGB12\n",
      "Archivo GenBank generado para la cepa: CCGB20\n",
      "Archivo GenBank generado para la cepa: CCGUVB14\n",
      "Archivo GenBank generado para la cepa: CCGUVB1N3\n",
      "Archivo GenBank generado para la cepa: CCGUVB23\n",
      "Archivo GenBank generado para la cepa: CCGUVB4N\n",
      "Archivo GenBank generado para la cepa: CCGE-LA001\n"
     ]
    }
   ],
   "source": [
    "#Obtener los GenBank de los genomas de interés\n",
    "for i, accession in enumerate(genomes[\"WGS\"]):\n",
    "    strain = genomes[\"Strain\"][i]\n",
    "    out = \"data/gbk_ncbi\" + strain + \".gbk\"\n",
    "    handle = Entrez.efetch(db=\"nucleotide\", id=accession, rettype=\"gb\", retmode=\"text\")\n",
    "    record = SeqIO.read(handle, \"genbank\")\n",
    "    handle.close()\n",
    "    SeqIO.write(record, out, \"genbank\")\n",
    "    print(\"Archivo GenBank generado para la cepa:\", strain)\n"
   ]
  },
  {
   "cell_type": "markdown",
   "id": "ad4317db",
   "metadata": {},
   "source": [
    "#### 3. Cargar los gbk al software en linea [IslandViewer4](https://www.pathogenomics.sfu.ca/islandviewer), detectar las islas simbióticas y definir coordenadas extendidas en un DataFrame "
   ]
  },
  {
   "cell_type": "markdown",
   "id": "87dac530",
   "metadata": {},
   "source": [
    "#### 4. Extraer la región correspondiente a la isla simbiótica de cada cepa"
   ]
  },
  {
   "cell_type": "code",
   "execution_count": 50,
   "id": "cf0d1474",
   "metadata": {},
   "outputs": [
    {
     "data": {
      "text/html": [
       "<div>\n",
       "<style scoped>\n",
       "    .dataframe tbody tr th:only-of-type {\n",
       "        vertical-align: middle;\n",
       "    }\n",
       "\n",
       "    .dataframe tbody tr th {\n",
       "        vertical-align: top;\n",
       "    }\n",
       "\n",
       "    .dataframe thead th {\n",
       "        text-align: right;\n",
       "    }\n",
       "</style>\n",
       "<table border=\"1\" class=\"dataframe\">\n",
       "  <thead>\n",
       "    <tr style=\"text-align: right;\">\n",
       "      <th></th>\n",
       "      <th>strain</th>\n",
       "      <th>start</th>\n",
       "      <th>end</th>\n",
       "    </tr>\n",
       "  </thead>\n",
       "  <tbody>\n",
       "    <tr>\n",
       "      <th>0</th>\n",
       "      <td>CCGUVB1N3</td>\n",
       "      <td>7234698</td>\n",
       "      <td>8205292</td>\n",
       "    </tr>\n",
       "    <tr>\n",
       "      <th>1</th>\n",
       "      <td>CCGUVB23</td>\n",
       "      <td>1653368</td>\n",
       "      <td>2782328</td>\n",
       "    </tr>\n",
       "    <tr>\n",
       "      <th>2</th>\n",
       "      <td>CCGUVB14</td>\n",
       "      <td>1205589</td>\n",
       "      <td>2378822</td>\n",
       "    </tr>\n",
       "    <tr>\n",
       "      <th>3</th>\n",
       "      <td>CCGUVB4N</td>\n",
       "      <td>1088213</td>\n",
       "      <td>2225466</td>\n",
       "    </tr>\n",
       "    <tr>\n",
       "      <th>4</th>\n",
       "      <td>CCGB20</td>\n",
       "      <td>1472672</td>\n",
       "      <td>1924306</td>\n",
       "    </tr>\n",
       "    <tr>\n",
       "      <th>5</th>\n",
       "      <td>CCGB01</td>\n",
       "      <td>1591475</td>\n",
       "      <td>2046468</td>\n",
       "    </tr>\n",
       "    <tr>\n",
       "      <th>6</th>\n",
       "      <td>CCGB12</td>\n",
       "      <td>5766140</td>\n",
       "      <td>6480540</td>\n",
       "    </tr>\n",
       "    <tr>\n",
       "      <th>7</th>\n",
       "      <td>CCGE-LA001</td>\n",
       "      <td>6125803</td>\n",
       "      <td>6929059</td>\n",
       "    </tr>\n",
       "  </tbody>\n",
       "</table>\n",
       "</div>"
      ],
      "text/plain": [
       "       strain    start      end\n",
       "0   CCGUVB1N3  7234698  8205292\n",
       "1    CCGUVB23  1653368  2782328\n",
       "2    CCGUVB14  1205589  2378822\n",
       "3    CCGUVB4N  1088213  2225466\n",
       "4      CCGB20  1472672  1924306\n",
       "5      CCGB01  1591475  2046468\n",
       "6      CCGB12  5766140  6480540\n",
       "7  CCGE-LA001  6125803  6929059"
      ]
     },
     "execution_count": 50,
     "metadata": {},
     "output_type": "execute_result"
    }
   ],
   "source": [
    "#Cargar el DataFrame con las coordenadas de las islas simbióticas\n",
    "coordinates = pd.read_csv(\"data/coordinates_islands.tsv\", sep=\"\\t\")\n",
    "coordinates"
   ]
  },
  {
   "cell_type": "code",
   "execution_count": 51,
   "id": "6d9ad0f9",
   "metadata": {},
   "outputs": [],
   "source": [
    "# Definir función para extraer región\n",
    "def extraer_region_gbk(gbk_file, start, end, output_file):\n",
    "    record = SeqIO.read(gbk_file, \"genbank\")\n",
    "    region = record[start-1:end]    \n",
    "    # Modificar los nombres de los CDS e incluir la posición\n",
    "    for feature in region.features:\n",
    "        if feature.type == \"CDS\":\n",
    "            feature.qualifiers[\"locus_tag\"][0] += f\"_{feature.location.start.position}_{feature.location.end.position}\"\n",
    "    with open(output_file, \"w\") as out:\n",
    "        SeqIO.write(region, out, \"genbank\")"
   ]
  },
  {
   "cell_type": "code",
   "execution_count": 66,
   "id": "564e7506",
   "metadata": {},
   "outputs": [
    {
     "name": "stdout",
     "output_type": "stream",
     "text": [
      "Archivo GenBank extraido de la cepa: CCGUVB1N3\n",
      "Archivo GenBank extraido de la cepa: CCGUVB23\n",
      "Archivo GenBank extraido de la cepa: CCGUVB14\n",
      "Archivo GenBank extraido de la cepa: CCGUVB4N\n",
      "Archivo GenBank extraido de la cepa: CCGB20\n",
      "Archivo GenBank extraido de la cepa: CCGB01\n"
     ]
    },
    {
     "name": "stderr",
     "output_type": "stream",
     "text": [
      "/Users/diana/opt/anaconda3/lib/python3.9/site-packages/Bio/GenBank/__init__.py:751: BiopythonParserWarning: Non-upper case molecule type in LOCUS line: dna\n",
      "  warnings.warn(\n"
     ]
    },
    {
     "name": "stdout",
     "output_type": "stream",
     "text": [
      "Archivo GenBank extraido de la cepa: CCGB12\n",
      "Archivo GenBank extraido de la cepa: CCGE-LA001\n"
     ]
    }
   ],
   "source": [
    "#Extraer las regiones de cada cepa\n",
    "for s, names in enumerate(coordinates['strain']):\n",
    "    strain = coordinates['strain'][s]\n",
    "    input_file = \"data/gbk_island_viewer/\" + strain + \".gbk\"\n",
    "    start_position = coordinates['start'][s]\n",
    "    end_position = coordinates['end'][s]\n",
    "    output_file = \"results/\" + strain + \"_SI.gbk\"\n",
    "    extraer_region_gbk(input_file, start_position, end_position, output_file)\n",
    "    print(\"Archivo GenBank extraido de la cepa:\", strain)"
   ]
  },
  {
   "cell_type": "markdown",
   "id": "070b0fa6",
   "metadata": {},
   "source": [
    "#### 5. Comparar las islas simbióticas de cada cepa\n",
    "\n",
    "###### Para esta parte se usó bash en la terminal\n",
    "conda activate clinker\n",
    "clinker results/*.gbk -p Bradys_IS.html -mu results/Bradys_IS.matrix"
   ]
  },
  {
   "cell_type": "code",
   "execution_count": 67,
   "id": "a26386b3",
   "metadata": {},
   "outputs": [
    {
     "data": {
      "text/plain": [
       "'/Users/diana/Dropbox/Bradys_islands_integrases'"
      ]
     },
     "execution_count": 67,
     "metadata": {},
     "output_type": "execute_result"
    }
   ],
   "source": [
    "6."
   ]
  }
 ],
 "metadata": {
  "kernelspec": {
   "display_name": "Python 3 (ipykernel)",
   "language": "python",
   "name": "python3"
  },
  "language_info": {
   "codemirror_mode": {
    "name": "ipython",
    "version": 3
   },
   "file_extension": ".py",
   "mimetype": "text/x-python",
   "name": "python",
   "nbconvert_exporter": "python",
   "pygments_lexer": "ipython3",
   "version": "3.9.7"
  }
 },
 "nbformat": 4,
 "nbformat_minor": 5
}
